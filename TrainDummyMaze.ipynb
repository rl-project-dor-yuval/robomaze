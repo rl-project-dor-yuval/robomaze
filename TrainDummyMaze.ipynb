{
 "cells": [
  {
   "cell_type": "code",
   "execution_count": 1,
   "id": "f637bf72-3b31-4453-ade5-8fb6a43900f7",
   "metadata": {},
   "outputs": [],
   "source": [
    "%load_ext autoreload\n",
    "%autoreload 2"
   ]
  },
  {
   "cell_type": "code",
   "execution_count": 2,
   "id": "66e0c999-c5da-4a12-a308-f2b47124a05b",
   "metadata": {},
   "outputs": [
    {
     "name": "stderr",
     "output_type": "stream",
     "text": [
      "pybullet build time: May 25 2021 20:16:47\n"
     ]
    },
    {
     "data": {
      "text/plain": [
       "True"
      ]
     },
     "execution_count": 2,
     "metadata": {},
     "output_type": "execute_result"
    }
   ],
   "source": [
    "import MazeEnv as mz\n",
    "from MazeEnv import Rewards\n",
    "import time\n",
    "import numpy as np\n",
    "import pandas as pd\n",
    "from stable_baselines3 import DDPG\n",
    "from Evaluation import EvalAndSaveCallback, moving_average\n",
    "from stable_baselines3.common.monitor import Monitor\n",
    "import matplotlib.pyplot as plt\n",
    "\n",
    "import torch\n",
    "torch.cuda.is_available()"
   ]
  },
  {
   "cell_type": "code",
   "execution_count": 13,
   "id": "0276fc2f-203b-4c2a-b808-c06fed15c53f",
   "metadata": {},
   "outputs": [],
   "source": [
    "def make_circular_map(size, radius):\n",
    "    center = np.divide(size, 2)\n",
    "    x, y = np.ogrid[:size[0], :size[1]]\n",
    "    maze_map = np.where(np.sqrt((x - center[0]) ** 2 + (y - center[1]) ** 2) > radius, 1, 0)\n",
    "\n",
    "    return maze_map"
   ]
  },
  {
   "cell_type": "code",
   "execution_count": 14,
   "id": "2b911f33-bd5a-43dd-aea8-219262d90020",
   "metadata": {},
   "outputs": [],
   "source": [
    "START_LOC = (5, 3)\n",
    "TIMEOUT_STEPS = 200\n",
    "BUFFER_SIZE = 10**4 # smaller buffer for small task\n",
    "TOTAL_TIME_STEPS = 1*10**4\n",
    "LEARNING_RATE = 0.001\n",
    "\n",
    "REWARDS = Rewards(target_arrival=1, collision=-1, timeout=-0.5)\n",
    "\n",
    "EVAL_EPISODES=5\n",
    "EVAL_FREQ=500\n",
    "VIDEO_FREQ=4"
   ]
  },
  {
   "cell_type": "code",
   "execution_count": 17,
   "id": "6b80c36f-2579-42f8-9a81-a29b12bfaf6e",
   "metadata": {},
   "outputs": [
    {
     "name": "stdout",
     "output_type": "stream",
     "text": [
      "Using cuda device\n",
      "Wrapping the env in a DummyVecEnv.\n"
     ]
    }
   ],
   "source": [
    "# create environment :\n",
    "tile_size = 0.1\n",
    "maze_size = mz.MazeSize.SQUARE10\n",
    "map_size = np.dot(maze_size, int(1 / tile_size))\n",
    "maze_map = make_circular_map(map_size, 3.5 / tile_size)\n",
    "# maze_map = np.zeros(map_size)\n",
    "\n",
    "maze_env = Monitor(mz.MazeEnv(maze_size=maze_size,\n",
    "                              maze_map=maze_map,\n",
    "                              tile_size=tile_size,\n",
    "                              start_loc=START_LOC,\n",
    "                              target_loc=np.divide(maze_size, 2),\n",
    "                              timeout_steps=TIMEOUT_STEPS,\n",
    "                              show_gui=False,\n",
    "                              rewards=REWARDS), \n",
    "                  filename=\"logs/DummyMaze/results\")\n",
    "_ = maze_env.reset()\n",
    "\n",
    "# create separete evaluation environment:\n",
    "eval_maze_env = Monitor(mz.MazeEnv(maze_size=maze_size,\n",
    "                                   maze_map=maze_map,\n",
    "                                   tile_size=tile_size,\n",
    "                                   start_loc=START_LOC,\n",
    "                                   target_loc=np.divide(maze_size, 2),\n",
    "                                   timeout_steps=TIMEOUT_STEPS,\n",
    "                                   show_gui=False,\n",
    "                                   rewards=REWARDS)\n",
    "                       )\n",
    "_ = eval_maze_env.reset()\n",
    " \n",
    "# create model:\n",
    "model = DDPG(policy=\"MlpPolicy\",\n",
    "             env=maze_env,\n",
    "             buffer_size=BUFFER_SIZE,\n",
    "             learning_rate=LEARNING_RATE,\n",
    "             device='cuda',\n",
    "             train_freq=(1, \"episode\"),\n",
    "             verbose=1)\n",
    "\n",
    "# create callback for evaluation\n",
    "callback = EvalAndSaveCallback(log_dir=\"logs/DummyMaze\",\n",
    "                               eval_env=eval_maze_env,\n",
    "                               eval_freq=EVAL_FREQ,\n",
    "                               eval_episodes=EVAL_EPISODES,\n",
    "                               eval_video_freq=VIDEO_FREQ,\n",
    "                               verbose=1)"
   ]
  },
  {
   "cell_type": "code",
   "execution_count": 18,
   "id": "1fb18c11-8585-4953-9caa-e73847cf6d2d",
   "metadata": {
    "tags": []
   },
   "outputs": [
    {
     "name": "stdout",
     "output_type": "stream",
     "text": [
      "500 Steps evaluation, avg reward:-0.5, avg episode length: 200.0\n",
      "--Saving new best smodel--\n",
      "---------------------------------\n",
      "| rollout/           |          |\n",
      "|    ep_len_mean     | 200      |\n",
      "|    ep_rew_mean     | -0.5     |\n",
      "| time/              |          |\n",
      "|    episodes        | 4        |\n",
      "|    fps             | 262      |\n",
      "|    time_elapsed    | 3        |\n",
      "|    total timesteps | 800      |\n",
      "| train/             |          |\n",
      "|    actor_loss      | -0.145   |\n",
      "|    critic_loss     | 0.00173  |\n",
      "|    learning_rate   | 0.001    |\n",
      "|    n_updates       | 600      |\n",
      "---------------------------------\n",
      "1000 Steps evaluation, avg reward:-0.5, avg episode length: 200.0\n",
      "1500 Steps evaluation, avg reward:-0.5, avg episode length: 200.0\n",
      "---------------------------------\n",
      "| rollout/           |          |\n",
      "|    ep_len_mean     | 200      |\n",
      "|    ep_rew_mean     | -0.5     |\n",
      "| time/              |          |\n",
      "|    episodes        | 8        |\n",
      "|    fps             | 219      |\n",
      "|    time_elapsed    | 7        |\n",
      "|    total timesteps | 1600     |\n",
      "| train/             |          |\n",
      "|    actor_loss      | -0.173   |\n",
      "|    critic_loss     | 0.00223  |\n",
      "|    learning_rate   | 0.001    |\n",
      "|    n_updates       | 1400     |\n",
      "---------------------------------\n",
      "2000 Steps evaluation, avg reward:-0.5, avg episode length: 200.0\n",
      "creating video\n",
      "---------------------------------\n",
      "| rollout/           |          |\n",
      "|    ep_len_mean     | 196      |\n",
      "|    ep_rew_mean     | -0.375   |\n",
      "| time/              |          |\n",
      "|    episodes        | 12       |\n",
      "|    fps             | 112      |\n",
      "|    time_elapsed    | 20       |\n",
      "|    total timesteps | 2357     |\n",
      "| train/             |          |\n",
      "|    actor_loss      | -0.291   |\n",
      "|    critic_loss     | 0.00238  |\n",
      "|    learning_rate   | 0.001    |\n",
      "|    n_updates       | 2157     |\n",
      "---------------------------------\n",
      "2500 Steps evaluation, avg reward:1.0, avg episode length: 183.0\n",
      "--Saving new best smodel--\n",
      "3000 Steps evaluation, avg reward:-0.5, avg episode length: 200.0\n",
      "---------------------------------\n",
      "| rollout/           |          |\n",
      "|    ep_len_mean     | 196      |\n",
      "|    ep_rew_mean     | -0.312   |\n",
      "| time/              |          |\n",
      "|    episodes        | 16       |\n",
      "|    fps             | 125      |\n",
      "|    time_elapsed    | 25       |\n",
      "|    total timesteps | 3140     |\n",
      "| train/             |          |\n",
      "|    actor_loss      | -0.461   |\n",
      "|    critic_loss     | 0.00263  |\n",
      "|    learning_rate   | 0.001    |\n",
      "|    n_updates       | 2940     |\n",
      "---------------------------------\n",
      "3500 Steps evaluation, avg reward:-0.5, avg episode length: 200.0\n",
      "---------------------------------\n",
      "| rollout/           |          |\n",
      "|    ep_len_mean     | 197      |\n",
      "|    ep_rew_mean     | -0.35    |\n",
      "| time/              |          |\n",
      "|    episodes        | 20       |\n",
      "|    fps             | 136      |\n",
      "|    time_elapsed    | 28       |\n",
      "|    total timesteps | 3940     |\n",
      "| train/             |          |\n",
      "|    actor_loss      | -0.643   |\n",
      "|    critic_loss     | 0.00448  |\n",
      "|    learning_rate   | 0.001    |\n",
      "|    n_updates       | 3740     |\n",
      "---------------------------------\n",
      "4000 Steps evaluation, avg reward:-0.5, avg episode length: 200.0\n",
      "creating video\n",
      "4500 Steps evaluation, avg reward:-0.5, avg episode length: 200.0\n",
      "---------------------------------\n",
      "| rollout/           |          |\n",
      "|    ep_len_mean     | 198      |\n",
      "|    ep_rew_mean     | -0.375   |\n",
      "| time/              |          |\n",
      "|    episodes        | 24       |\n",
      "|    fps             | 109      |\n",
      "|    time_elapsed    | 43       |\n",
      "|    total timesteps | 4740     |\n",
      "| train/             |          |\n",
      "|    actor_loss      | -0.779   |\n",
      "|    critic_loss     | 0.00621  |\n",
      "|    learning_rate   | 0.001    |\n",
      "|    n_updates       | 4540     |\n",
      "---------------------------------\n",
      "5000 Steps evaluation, avg reward:-0.5, avg episode length: 200.0\n",
      "---------------------------------\n",
      "| rollout/           |          |\n",
      "|    ep_len_mean     | 192      |\n",
      "|    ep_rew_mean     | -0.286   |\n",
      "| time/              |          |\n",
      "|    episodes        | 28       |\n",
      "|    fps             | 115      |\n",
      "|    time_elapsed    | 46       |\n",
      "|    total timesteps | 5384     |\n",
      "| train/             |          |\n",
      "|    actor_loss      | -0.845   |\n",
      "|    critic_loss     | 0.00686  |\n",
      "|    learning_rate   | 0.001    |\n",
      "|    n_updates       | 5292     |\n",
      "---------------------------------\n",
      "5500 Steps evaluation, avg reward:1.0, avg episode length: 169.0\n",
      "6000 Steps evaluation, avg reward:1.0, avg episode length: 170.0\n",
      "creating video\n",
      "---------------------------------\n",
      "| rollout/           |          |\n",
      "|    ep_len_mean     | 191      |\n",
      "|    ep_rew_mean     | -0.219   |\n",
      "| time/              |          |\n",
      "|    episodes        | 32       |\n",
      "|    fps             | 104      |\n",
      "|    time_elapsed    | 58       |\n",
      "|    total timesteps | 6123     |\n",
      "| train/             |          |\n",
      "|    actor_loss      | -0.875   |\n",
      "|    critic_loss     | 0.00631  |\n",
      "|    learning_rate   | 0.001    |\n",
      "|    n_updates       | 5953     |\n",
      "---------------------------------\n",
      "6500 Steps evaluation, avg reward:-0.5, avg episode length: 200.0\n",
      "---------------------------------\n",
      "| rollout/           |          |\n",
      "|    ep_len_mean     | 191      |\n",
      "|    ep_rew_mean     | -0.208   |\n",
      "| time/              |          |\n",
      "|    episodes        | 36       |\n",
      "|    fps             | 110      |\n",
      "|    time_elapsed    | 62       |\n",
      "|    total timesteps | 6862     |\n",
      "| train/             |          |\n",
      "|    actor_loss      | -0.907   |\n",
      "|    critic_loss     | 0.00719  |\n",
      "|    learning_rate   | 0.001    |\n",
      "|    n_updates       | 6723     |\n",
      "---------------------------------\n",
      "7000 Steps evaluation, avg reward:-0.5, avg episode length: 200.0\n",
      "7500 Steps evaluation, avg reward:-0.5, avg episode length: 200.0\n",
      "---------------------------------\n",
      "| rollout/           |          |\n",
      "|    ep_len_mean     | 190      |\n",
      "|    ep_rew_mean     | -0.2     |\n",
      "| time/              |          |\n",
      "|    episodes        | 40       |\n",
      "|    fps             | 115      |\n",
      "|    time_elapsed    | 66       |\n",
      "|    total timesteps | 7619     |\n",
      "| train/             |          |\n",
      "|    actor_loss      | -0.938   |\n",
      "|    critic_loss     | 0.00685  |\n",
      "|    learning_rate   | 0.001    |\n",
      "|    n_updates       | 7419     |\n",
      "---------------------------------\n",
      "8000 Steps evaluation, avg reward:1.0, avg episode length: 156.0\n",
      "creating video\n",
      "---------------------------------\n",
      "| rollout/           |          |\n",
      "|    ep_len_mean     | 189      |\n",
      "|    ep_rew_mean     | -0.125   |\n",
      "| time/              |          |\n",
      "|    episodes        | 44       |\n",
      "|    fps             | 107      |\n",
      "|    time_elapsed    | 77       |\n",
      "|    total timesteps | 8307     |\n",
      "| train/             |          |\n",
      "|    actor_loss      | -0.976   |\n",
      "|    critic_loss     | 0.00586  |\n",
      "|    learning_rate   | 0.001    |\n",
      "|    n_updates       | 8125     |\n",
      "---------------------------------\n",
      "8500 Steps evaluation, avg reward:1.0, avg episode length: 111.0\n",
      "---------------------------------\n",
      "| rollout/           |          |\n",
      "|    ep_len_mean     | 186      |\n",
      "|    ep_rew_mean     | -0.0312  |\n",
      "| time/              |          |\n",
      "|    episodes        | 48       |\n",
      "|    fps             | 111      |\n",
      "|    time_elapsed    | 79       |\n",
      "|    total timesteps | 8904     |\n",
      "| train/             |          |\n",
      "|    actor_loss      | -1.01    |\n",
      "|    critic_loss     | 0.00721  |\n",
      "|    learning_rate   | 0.001    |\n",
      "|    n_updates       | 8744     |\n",
      "---------------------------------\n",
      "9000 Steps evaluation, avg reward:1.0, avg episode length: 123.0\n",
      "9500 Steps evaluation, avg reward:-0.5, avg episode length: 200.0\n",
      "---------------------------------\n",
      "| rollout/           |          |\n",
      "|    ep_len_mean     | 184      |\n",
      "|    ep_rew_mean     | -0.00962 |\n",
      "| time/              |          |\n",
      "|    episodes        | 52       |\n",
      "|    fps             | 114      |\n",
      "|    time_elapsed    | 83       |\n",
      "|    total timesteps | 9547     |\n",
      "| train/             |          |\n",
      "|    actor_loss      | -1.06    |\n",
      "|    critic_loss     | 0.00681  |\n",
      "|    learning_rate   | 0.001    |\n",
      "|    n_updates       | 9347     |\n",
      "---------------------------------\n",
      "10000 Steps evaluation, avg reward:1.0, avg episode length: 169.0\n",
      "creating video\n",
      "time 94.96851301193237\n"
     ]
    }
   ],
   "source": [
    "start = time.time()\n",
    "\n",
    "model.learn(total_timesteps=TOTAL_TIME_STEPS,\n",
    "            callback=callback,)\n",
    "\n",
    "print(\"time\", time.time() - start)"
   ]
  },
  {
   "cell_type": "code",
   "execution_count": 30,
   "id": "b5359dfb-eb64-44f8-816d-5549cd393512",
   "metadata": {
    "tags": []
   },
   "outputs": [
    {
     "data": {
      "text/plain": [
       "Text(0.5, 0, 'Step')"
      ]
     },
     "execution_count": 30,
     "metadata": {},
     "output_type": "execute_result"
    },
    {
     "data": {
      "image/png": "[encoded data removed]",
      "text/plain": [
       "<Figure size 1080x864 with 4 Axes>"
      ]
     },
     "metadata": {
      "needs_background": "light"
     },
     "output_type": "display_data"
    }
   ],
   "source": [
    "fig, axes = plt.subplots(2, 2, figsize=(15,12))\n",
    "\n",
    "results_df = pd.read_csv(\"logs/DummyMaze/results.monitor.csv\", header=1)\n",
    "eval_results_df = pd.read_csv(\"logs/DummyMaze/eval_results.csv\",\n",
    "                         names=[\"Step\", \"Avg Reward\", \"Avg Episode Length\"],\n",
    "                         index_col=0)\n",
    "\n",
    "episode = results_df.index.to_numpy()\n",
    "reward = results_df[\"r\"].to_numpy()\n",
    "reward_moving_avg = moving_average(reward, kernel_size=10)\n",
    "episode_length= results_df[\"l\"].to_numpy()\n",
    "\n",
    "axes[0, 0].plot(episode, reward_moving_avg)\n",
    "axes[0, 0].set_title(\"Trainning Episodes Reward Moving Average\")\n",
    "axes[0, 0].set_xlabel(\"Episode\")\n",
    "\n",
    "axes[1, 0].plot(episode, episode_length)\n",
    "axes[1, 0].set_title(\"Trainning Episodes Episode Length\")\n",
    "axes[1, 0].set_xlabel(\"Episode\")\n",
    "\n",
    "\n",
    "eval_results_df.plot(y=\"Avg Reward\", ax=axes[0,1], legend=None)\n",
    "axes[0, 1].set_title(\"Evaluation Reward (avg over {eval_episodes} episodes)\".format(eval_episodes=EVAL_EPISODES))\n",
    "\n",
    "steps = eval_results_df.index.to_numpy()\n",
    "eval_reward = eval_results_df[\"Avg Reward\"].to_numpy()\n",
    "eval_reward_moving_avg = moving_average(eval_reward, kernel_size=10)\n",
    "axes[1, 1].plot(steps, eval_reward_moving_avg)\n",
    "axes[1, 1].set_title(\"Evaluation Reward Moving Average\")\n",
    "axes[1, 1].set_xlabel(\"Step\")\n",
    "\n"
   ]
  },
  {
   "cell_type": "code",
   "execution_count": 31,
   "id": "e51f49c3-fe3d-47f2-ad34-ca69c4b4bc58",
   "metadata": {},
   "outputs": [
    {
     "name": "stdout",
     "output_type": "stream",
     "text": [
      "Reward: 1\n"
     ]
    }
   ],
   "source": [
    "# load best model \n",
    "best_model = DDPG.load(\"./logs/DummyMaze/best_model\")\n",
    "\n",
    "# evaluate the best model\n",
    "episode_reward = 0\n",
    "obs = eval_maze_env.reset(create_video=True, video_path=\"logs/DummyMaze/final.avi\")\n",
    "while True:\n",
    "    action, _ = best_model.predict(obs, deterministic=True)\n",
    "    obs, reward, done, _ = eval_maze_env.step(action)\n",
    "    episode_reward += reward\n",
    "    if done:\n",
    "        print(\"Reward:\", episode_reward)\n",
    "        break\n",
    "        \n"
   ]
  },
  {
   "cell_type": "code",
   "execution_count": 40,
   "id": "3008c2b6-828f-43c8-ba4b-308bb83237fd",
   "metadata": {},
   "outputs": [],
   "source": [
    "# run this before calling Video()\n",
    "! ln -sf \"./logs/DummyMaze/10000_steps.avi\" ./10000_steps.avi"
   ]
  },
  {
   "cell_type": "code",
   "execution_count": null,
   "id": "9da44d5b-1dff-42e2-abd3-b6693ff99370",
   "metadata": {},
   "outputs": [],
   "source": [
    "!pip install ipywidgets"
   ]
  },
  {
   "cell_type": "code",
   "execution_count": 54,
   "id": "47d7a7a7-c7c4-4422-a973-fd921c2adbe3",
   "metadata": {
    "tags": []
   },
   "outputs": [
    {
     "data": {
      "application/vnd.jupyter.widget-view+json": {
       "model_id": "80f8f791f8264f87a01b46871cb4f31a",
       "version_major": 2,
       "version_minor": 0
      },
      "text/plain": [
       "Video(value=b'RIFF\\xcc\\x0b\\x01\\x00AVI LIST\\xec\\x11\\x00\\x00hdrlavih8\\x00\\x00\\x00\\xc2\\xa2\\x00\\x00\\x00\\xa6\\x0e\\x0…"
      ]
     },
     "metadata": {},
     "output_type": "display_data"
    }
   ],
   "source": [
    "#from IPython.display import display, HTML,Video\n",
    "from ipywidgets import Video\n",
    "\n",
    "# Video(\"10000_steps.avi\", width=700, height=576)\n",
    "# Video.from_file(\"./logs/DummyMaze/10000_steps.avi\", width=320, height=320, play=True)\n"
   ]
  },
  {
   "cell_type": "code",
   "execution_count": 4,
   "id": "d0121f5f-81c4-4665-aff0-c0cbfb302df8",
   "metadata": {},
   "outputs": [
    {
     "data": {
      "text/html": [
       "\n",
       "<video width=700 controls>\n",
       "    <source src=\"./logs/DummyMaze/10000_steps_check.avi\" type=\"video/avi\">\n",
       "</video>"
      ],
      "text/plain": [
       "<IPython.core.display.HTML object>"
      ]
     },
     "execution_count": 4,
     "metadata": {},
     "output_type": "execute_result"
    }
   ],
   "source": [
    "# %%HTML\n",
    "# <video width=700 controls>\n",
    "#     <source src=\"./logs/DummyMaze/10000_steps_check.avi\" type=\"video/avi\">\n",
    "# </video>\n",
    "\n",
    "from IPython.display import HTML\n",
    "\n",
    "HTML(\"\"\"\n",
    "<video width=700 controls>\n",
    "    <source src=\"./logs/DummyMaze/10000_steps_check.avi\" type=\"video/avi\">\n",
    "</video>\"\"\")"
   ]
  },
  {
   "cell_type": "code",
   "execution_count": 26,
   "id": "054e8458-e097-4497-b9cf-76f2d20fdd5b",
   "metadata": {},
   "outputs": [],
   "source": [
    "maze_env = mz.MazeEnv(maze_size=maze_size,\n",
    "                      maze_map=maze_map,\n",
    "                      tile_size=tile_size,\n",
    "                      start_loc=START_LOC,\n",
    "                      target_loc=np.divide(maze_size, 2),\n",
    "                      timeout_steps=TIMEOUT_STEPS,\n",
    "                      show_gui=False)\n",
    "\n",
    "from stable_baselines3.common.env_checker import check_env\n",
    "check_env(maze_env)"
   ]
  },
  {
   "cell_type": "code",
   "execution_count": null,
   "id": "5afd0cd5-9214-4ffe-a151-803f41855a2f",
   "metadata": {},
   "outputs": [],
   "source": []
  }
 ],
 "metadata": {
  "kernelspec": {
   "display_name": "Python 3 (ipykernel)",
   "language": "python",
   "name": "python3"
  },
  "language_info": {
   "codemirror_mode": {
    "name": "ipython",
    "version": 3
   },
   "file_extension": ".py",
   "mimetype": "text/x-python",
   "name": "python",
   "nbconvert_exporter": "python",
   "pygments_lexer": "ipython3",
   "version": "3.7.4"
  }
 },
 "nbformat": 4,
 "nbformat_minor": 5
}
