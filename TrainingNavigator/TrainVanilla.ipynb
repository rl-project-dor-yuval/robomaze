{
 "cells": [
  {
   "cell_type": "code",
   "execution_count": null,
   "outputs": [],
   "source": [],
   "metadata": {
    "collapsed": false,
    "pycharm": {
     "name": "#%%\n"
    }
   }
  },
  {
   "cell_type": "code",
   "execution_count": null,
   "outputs": [],
   "source": [],
   "metadata": {
    "collapsed": false,
    "pycharm": {
     "name": "#%%\n"
    }
   }
  },
  {
   "cell_type": "code",
   "execution_count": null,
   "outputs": [],
   "source": [],
   "metadata": {
    "collapsed": false,
    "pycharm": {
     "name": "#%%\n"
    }
   }
  },
  {
   "cell_type": "markdown",
   "source": [
    "# Training Navigator Agent for Vanilla maze\n",
    "\n",
    "The following notebook is aimed to train the agent navigator that generates subgoals in order to arrive the main goal.\n",
    "\n",
    "The ***input*** for neural network should be main goal from user, and observation of ant robot.\n",
    "The ***output*** should be a subgoal - (r, theta) coordinates to go to in the next few simulation steps."
   ],
   "metadata": {
    "collapsed": false
   }
  },
  {
   "cell_type": "code",
   "execution_count": null,
   "outputs": [],
   "source": [
    "import torch\n",
    "import numpy as np\n",
    "import time\n",
    "\n",
    "from stable_baselines3 import DDPG\n",
    "from stable_baselines3.common.noise import NormalActionNoise\n",
    "\n",
    "from Utils import get_vanilla_navigator_env\n",
    "import argparse\n",
    "from Training.Evaluation import MultiTargetEvalAndSaveCallback"
   ],
   "metadata": {
    "collapsed": false,
    "pycharm": {
     "name": "#%%\n",
     "is_executing": true
    }
   }
  },
  {
   "cell_type": "code",
   "execution_count": null,
   "outputs": [],
   "source": [
    "# params\n",
    "EVAL_FREQ = 100_000\n",
    "VIDEO_FREQ = 25\n",
    "BUFFER_SIZE = 10_000\n",
    "TIMEOUT_STEPS = 300 # Timeout Steps of each episode\n",
    "LEARNING_RATE = 0.0001\n",
    "EXPLORATION_NOISE_STD = 0.03\n",
    "\n",
    "TOTAL_TIME_STEPS = 100\n",
    "\n",
    "device = torch.device('cuda' if torch.cuda.is_available() else 'cpu')"
   ],
   "metadata": {
    "collapsed": false,
    "pycharm": {
     "name": "#%%\n"
    }
   }
  },
  {
   "cell_type": "code",
   "execution_count": null,
   "outputs": [],
   "source": [
    "parser = argparse.ArgumentParser(description=\"Solve the vanilla maze with fixed manually generated actions\")\n",
    "parser.add_argument('--to_vid', dest='to_vid', action='store_const', const=True, default=False)\n",
    "\n",
    "args = parser.parse_args()\n",
    "\n",
    "# Initialize environment and Eval env.\n",
    "nav_env = get_vanilla_navigator_env(show_gui=not args.to_vid)\n",
    "nav_env.visualize_mode(not args.to_vid)\n",
    "nav_env_eval = get_vanilla_navigator_env(show_gui=not args.to_vid)\n",
    "nav_env_eval.visualize_mode(not args.to_vid)\n",
    "\n",
    "_ = nav_env.reset()\n",
    "nav_env.maze_env.reset(create_video=args.to_vid, video_path=\"TrainVanilla.avi\")\n",
    "\n",
    "\n",
    "# create callback for evaluation\n",
    "callback = MultiTargetEvalAndSaveCallback(log_dir=\"logs/VanillaMazeNavigator\",\n",
    "                                          eval_env=nav_env_eval,\n",
    "                                          eval_freq=EVAL_FREQ,\n",
    "                                          eval_video_freq=VIDEO_FREQ,\n",
    "                                          verbose=1)\n"
   ],
   "metadata": {
    "collapsed": false,
    "pycharm": {
     "name": "#%%\n"
    }
   }
  },
  {
   "cell_type": "code",
   "execution_count": null,
   "outputs": [],
   "source": [
    "exploration_noise = NormalActionNoise(mean=np.array([0]*2), sigma=np.array([EXPLORATION_NOISE_STD]*2))\n",
    "\n",
    "model = DDPG(policy=\"MlpPolicy\",\n",
    "             env=nav_env,\n",
    "             buffer_size=BUFFER_SIZE,\n",
    "             learning_rate=LEARNING_RATE,\n",
    "             action_noise=exploration_noise,\n",
    "             device=device,\n",
    "             train_freq=(1, \"episode\"),\n",
    "             verbose=0,\n",
    "             tensorboard_log=\"./logs/VanillaMazeNavigator/tb\")"
   ],
   "metadata": {
    "collapsed": false,
    "pycharm": {
     "name": "#%%\n"
    }
   }
  },
  {
   "cell_type": "code",
   "execution_count": null,
   "outputs": [],
   "source": [
    "start = time.time()\n",
    "\n",
    "model.learn(total_timesteps=TOTAL_TIME_STEPS,\n",
    "            callback=callback,\n",
    "            tb_log_name=\"vanillaTrain\")\n",
    "\n",
    "print(\"time\", time.time() - start)"
   ],
   "metadata": {
    "collapsed": false,
    "pycharm": {
     "name": "#%%\n"
    }
   }
  }
 ],
 "metadata": {
  "kernelspec": {
   "display_name": "Python 3",
   "language": "python",
   "name": "python3"
  },
  "language_info": {
   "codemirror_mode": {
    "name": "ipython",
    "version": 2
   },
   "file_extension": ".py",
   "mimetype": "text/x-python",
   "name": "python",
   "nbconvert_exporter": "python",
   "pygments_lexer": "ipython2",
   "version": "2.7.6"
  }
 },
 "nbformat": 4,
 "nbformat_minor": 0
}