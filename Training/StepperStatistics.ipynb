{
 "cells": [
  {
   "cell_type": "code",
   "execution_count": 1,
   "metadata": {},
   "outputs": [],
   "source": [
    "import os, sys\n",
    "sys.path.append('../..')\n",
    "\n",
    "import numpy as np\n",
    "import pandas as pd\n",
    "import matplotlib.pyplot as plt\n",
    "import glob\n",
    "import MazeEnv.MultiTargetMazeEnv as mz\n",
    "from Training.Utils import make_circular_map\n",
    "from TrainingNavigator.StepperAgent import StepperAgent\n",
    "from MazeEnv.EnvAttributes import Rewards\n",
    "from Training.Utils import get_multi_targets_circle_envs"
   ]
  },
  {
   "cell_type": "markdown",
   "metadata": {
    "pycharm": {
     "name": "#%% md\n"
    }
   },
   "source": [
    "# success rate as function of the farthest goal\n",
    "(with or without random initialization)"
   ]
  },
  {
   "cell_type": "code",
   "execution_count": 2,
   "metadata": {
    "pycharm": {
     "name": "#%%\n"
    }
   },
   "outputs": [],
   "source": [
    "targets_loc = np.genfromtxt(\"workspaces/test_coords_0_6to3.csv\", delimiter=',')\n",
    "num_workspaces = len(targets_loc)\n",
    "agent_path = \"../TrainingNavigator/StepperAgents/TorqueStepperF1500.pt\"\n",
    "agent = StepperAgent(agent_path)"
   ]
  },
  {
   "cell_type": "code",
   "execution_count": 3,
   "metadata": {
    "pycharm": {
     "name": "#%%\n"
    }
   },
   "outputs": [],
   "source": [
    "# rewards configuration doesn't matter because we only test\n",
    "env_no_rand_init, eval_to_delete = get_multi_targets_circle_envs(radius=5,\n",
    "                                                 target_loc_list=targets_loc,\n",
    "                                                 test_target_loc_list=[(5,5)],\n",
    "                                                 show_gui=False,\n",
    "                                                 hit_target_epsilon=0.25,\n",
    "                                                 success_steps_before_done=25,\n",
    "                                                 timeout_steps=200,\n",
    "                                                 sticky_actions=5,\n",
    "                                                 xy_in_obs=False,\n",
    "                                                 noisy_ant_initialization=False)\n",
    "del eval_to_delete\n",
    "\n",
    "env_with_rand_init, eval_to_delete = get_multi_targets_circle_envs(radius=5,\n",
    "                                                 target_loc_list=targets_loc,\n",
    "                                                 test_target_loc_list=[(5,5)],\n",
    "                                                 show_gui=False,\n",
    "                                                 hit_target_epsilon=0.25,\n",
    "                                                 success_steps_before_done=25,\n",
    "                                                 timeout_steps=200,\n",
    "                                                 sticky_actions=5,\n",
    "                                                 xy_in_obs=False,\n",
    "                                                 noisy_ant_initialization=True)\n",
    "del eval_to_delete\n"
   ]
  },
  {
   "cell_type": "code",
   "execution_count": 4,
   "metadata": {
    "pycharm": {
     "name": "#%%\n"
    }
   },
   "outputs": [],
   "source": [
    "def get_per_goal_evaluation(agent, env: mz.MultiTargetMazeEnv):\n",
    "    \"\"\"\n",
    "     return two lists for evaluation, for each list, each goal is a tuple of (distance, is_end_success, is_success_at_all).\n",
    "     is_end_success means \"last step is succesful\" which means the robot got to the goal and stayed there at least 25 steps and until the end of the episode\n",
    "     is_success_at_all is true if the robot got to the goal at least once\n",
    "     \"\"\"\n",
    "    goals = []\n",
    "    for i in range(num_workspaces):\n",
    "        distance =  np.linalg.norm(np.array(targets_loc[i]) - np.array([5, 5]))\n",
    "        is_success_at_all = False\n",
    "        success_steps_count = 0\n",
    "\n",
    "        obs = env.reset(target_index=i)\n",
    "        done = False\n",
    "        while not done:\n",
    "            action = agent.step(obs)\n",
    "            obs, reward, done, info = env.step(action)\n",
    "            if info['success']:\n",
    "                is_success_at_all = True\n",
    "                success_steps_count += 1\n",
    "\n",
    "        is_end_success = success_steps_count >= 25 and info[\"success\"]\n",
    "        goals.append((distance, is_end_success ,is_success_at_all))\n",
    "\n",
    "    return goals"
   ]
  },
  {
   "cell_type": "markdown",
   "metadata": {
    "pycharm": {
     "name": "#%% md\n"
    }
   },
   "source": [
    "start with no random initialization:"
   ]
  },
  {
   "cell_type": "code",
   "execution_count": 5,
   "metadata": {
    "pycharm": {
     "name": "#%%\n"
    }
   },
   "outputs": [],
   "source": [
    "goals_no_random_init = get_per_goal_evaluation(agent, env_no_rand_init)"
   ]
  },
  {
   "cell_type": "code",
   "execution_count": 6,
   "metadata": {
    "pycharm": {
     "name": "#%%\n"
    }
   },
   "outputs": [
    {
     "data": {
      "text/plain": "<Figure size 432x288 with 1 Axes>",
      "image/png": "[encoded data removed]"
     },
     "metadata": {
      "needs_background": "light"
     },
     "output_type": "display_data"
    }
   ],
   "source": [
    "goals_no_random_init.sort(key=lambda tup: tup[0])\n",
    "distances = np.array([tup[0] for tup in goals_no_random_init])\n",
    "is_end_success = np.array([tup[1] for tup in goals_no_random_init])\n",
    "closer_goals_count = np.arange(1, 101)\n",
    "\n",
    "end_success_lower_than = np.cumsum(is_end_success) / closer_goals_count\n",
    "\n",
    "plt.plot(distances, end_success_lower_than)\n",
    "plt.title(\"No Random Initialization\")\n",
    "plt.xlabel(\"goal distance\")\n",
    "plt.ylabel(\"succes rate for goals with lower distance\")\n",
    "plt.show()\n"
   ]
  },
  {
   "cell_type": "markdown",
   "metadata": {
    "pycharm": {
     "name": "#%% md\n"
    }
   },
   "source": [
    "now with random initialization. perform multiple experiments per target"
   ]
  },
  {
   "cell_type": "code",
   "execution_count": 32,
   "metadata": {
    "pycharm": {
     "name": "#%%\n"
    }
   },
   "outputs": [],
   "source": [
    "success_counts_end = np.zeros(num_workspaces)\n",
    "success_counts_once = np.zeros(num_workspaces)\n",
    "\n",
    "episodes_per_goal = 100\n",
    "\n",
    "for i in range(episodes_per_goal):\n",
    "    result = get_per_goal_evaluation(agent, env_with_rand_init)\n",
    "    result.sort(key=lambda tup: tup[0])\n",
    "    result = np.array(result)\n",
    "    success_counts_end += result[:, 1]\n",
    "    success_counts_once += result[:, 2]"
   ]
  },
  {
   "cell_type": "code",
   "execution_count": 33,
   "outputs": [
    {
     "data": {
      "text/plain": "<Figure size 432x288 with 1 Axes>",
      "image/png": "[encoded data removed]"
     },
     "metadata": {
      "needs_background": "light"
     },
     "output_type": "display_data"
    }
   ],
   "source": [
    "distances = np.array([tup[0] for tup in result])\n",
    "\n",
    "episodes_count_lower_than = np.arange(1, num_workspaces+1) * episodes_per_goal\n",
    "end_success_rate_lower_than = np.cumsum(success_counts_end) / episodes_count_lower_than\n",
    "success_at_all_rate_lower_than = np.cumsum(success_counts_once) / episodes_count_lower_than\n",
    "\n",
    "plt.plot(distances, success_at_all_rate_lower_than)\n",
    "plt.show()"
   ],
   "metadata": {
    "collapsed": false,
    "pycharm": {
     "name": "#%%\n"
    }
   }
  },
  {
   "cell_type": "code",
   "execution_count": 34,
   "outputs": [
    {
     "data": {
      "text/plain": "<Figure size 432x288 with 1 Axes>",
      "image/png": "[encoded data removed]"
     },
     "metadata": {
      "needs_background": "light"
     },
     "output_type": "display_data"
    }
   ],
   "source": [
    "plt.plot(distances, end_success_rate_lower_than)\n",
    "plt.show()"
   ],
   "metadata": {
    "collapsed": false,
    "pycharm": {
     "name": "#%%\n"
    }
   }
  }
 ],
 "metadata": {
  "kernelspec": {
   "display_name": "Python 3 (ipykernel)",
   "language": "python",
   "name": "python3"
  },
  "language_info": {
   "codemirror_mode": {
    "name": "ipython",
    "version": 3
   },
   "file_extension": ".py",
   "mimetype": "text/x-python",
   "name": "python",
   "nbconvert_exporter": "python",
   "pygments_lexer": "ipython3",
   "version": "3.9.2"
  }
 },
 "nbformat": 4,
 "nbformat_minor": 1
}