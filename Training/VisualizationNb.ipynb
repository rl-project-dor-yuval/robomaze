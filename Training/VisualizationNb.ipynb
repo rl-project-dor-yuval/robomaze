{
 "cells": [
  {
   "cell_type": "markdown",
   "id": "611b4e1e-ecbe-40f7-8035-b7b8a2575699",
   "metadata": {},
   "source": [
    "## Visualizations notebook:\n"
   ]
  },
  {
   "cell_type": "code",
   "execution_count": 21,
   "id": "4332cb85-1602-46fc-8141-3d2057dcddaf",
   "metadata": {
    "tags": []
   },
   "outputs": [
    {
     "name": "stdout",
     "output_type": "stream",
     "text": [
      "The autoreload extension is already loaded. To reload it, use:\n",
      "  %reload_ext autoreload\n"
     ]
    }
   ],
   "source": [
    "%load_ext autoreload\n",
    "%autoreload 2"
   ]
  },
  {
   "cell_type": "code",
   "execution_count": 22,
   "id": "a7592058-3319-4645-86ba-5277a9de4d3e",
   "metadata": {
    "tags": []
   },
   "outputs": [
    {
     "name": "stdout",
     "output_type": "stream",
     "text": [
      "cpu\n"
     ]
    }
   ],
   "source": [
    "import time\n",
    "import numpy as np\n",
    "import pandas as pd\n",
    "import os\n",
    "import sys\n",
    "\n",
    "\n",
    "from stable_baselines3 import DDPG\n",
    "sys.path.append('..')\n",
    "\n",
    "import MazeEnv.MultiTargetMazeEnv as mtmz\n",
    "from MazeEnv.MazeEnv import Rewards\n",
    "from Utils import clear_files, get_multi_targets_circle_envs, visualize_model\n",
    "\n",
    "from IPython.display import Image\n",
    "import ipyplot\n",
    "\n",
    "import torch\n",
    "device = torch.device('cuda' if torch.cuda.is_available() else 'cpu')\n",
    "print(device)"
   ]
  },
  {
   "cell_type": "code",
   "execution_count": 23,
   "id": "9d2235b1-2108-4235-910e-b649b02518a5",
   "metadata": {
    "tags": []
   },
   "outputs": [],
   "source": [
    "# Generate evaluation environment\n",
    "targets = np.genfromtxt(\"TestTargets/test_coords.csv\", delimiter=',')\n",
    "REWARDS = Rewards(target_arrival=1, collision=-1, timeout=0, fall=-1, idle=-0.2e-3)\n",
    "_, eval_env = get_multi_targets_circle_envs(radius=4,\n",
    "                                            targets=targets,\n",
    "                                            timeout_steps=200,\n",
    "                                            rewards=REWARDS,\n",
    "                                            monitor_dir=\"logs/FineTuneMultiple/tmp\",\n",
    "                                            xy_in_obs=False)\n",
    "                              "
   ]
  },
  {
   "cell_type": "markdown",
   "id": "9f6edd95-44b9-4ab4-93da-e6276891f733",
   "metadata": {},
   "source": [
    "# Visual Results\n",
    "load trained model and show visual results on subset of the targets:"
   ]
  },
  {
   "cell_type": "code",
   "execution_count": 24,
   "id": "028295e1-62d7-4b7c-80f4-29416d938747",
   "metadata": {
    "tags": []
   },
   "outputs": [],
   "source": [
    "trained_model_dir = os.path.join(\"logs\", \"MultiTargets\", \"TargetEpsilon0.5_16m_largerBoundries\") #should consist file best_model.zip\n",
    "video_dir = os.path.join(trained_model_dir, \"vids\")\n",
    "TARGETS_N = 1"
   ]
  },
  {
   "cell_type": "markdown",
   "id": "f5475f89-81a6-4b37-b542-77251659a2d1",
   "metadata": {},
   "source": [
    "All videos and gifs already saved.\n",
    "Uncomment this cell to recreate evaluation videos again."
   ]
  },
  {
   "cell_type": "code",
   "execution_count": 25,
   "id": "86c9a57c-78e4-4f80-9144-f045f2844b36",
   "metadata": {
    "tags": []
   },
   "outputs": [
    {
     "name": "stdout",
     "output_type": "stream",
     "text": [
      "logs\\MultiTargets\\TargetEpsilon0.5_16m_largerBoundries\\vids\\final0.avi\n",
      "reached target: 1\n"
     ]
    },
    {
     "data": {
      "text/plain": "<IPython.core.display.HTML object>",
      "text/html": "\n    <style>\n        #ipyplot-html-viewer-toggle-jYqZ9SrUfUG37Q6sLYBxnv {\n            position: absolute;\n            top: -9999px;\n            left: -9999px;\n            visibility: hidden;\n        }\n\n        #ipyplot-html-viewer-label-jYqZ9SrUfUG37Q6sLYBxnv { \n            position: relative;\n            display: inline-block;\n            cursor: pointer;\n            color: blue;\n            text-decoration: underline;\n        }\n\n        #ipyplot-html-viewer-textarea-jYqZ9SrUfUG37Q6sLYBxnv {\n            background: lightgrey;\n            width: 100%;\n            height: 0px;\n            display: none;\n        }\n\n        #ipyplot-html-viewer-toggle-jYqZ9SrUfUG37Q6sLYBxnv:checked ~ #ipyplot-html-viewer-textarea-jYqZ9SrUfUG37Q6sLYBxnv {\n            height: 200px;\n            display: block;\n        }\n\n        #ipyplot-html-viewer-toggle-jYqZ9SrUfUG37Q6sLYBxnv:checked + #ipyplot-html-viewer-label-jYqZ9SrUfUG37Q6sLYBxnv:after {\n            content: \"hide html\";\n            position: absolute;\n            top: 0;\n            left: 0;\n            right: 0;\n            bottom: 0;\n            background: white;\n            cursor: pointer;\n            color: blue;\n            text-decoration: underline;\n        }\n    </style>\n    <div>\n        <input type=\"checkbox\" id=\"ipyplot-html-viewer-toggle-jYqZ9SrUfUG37Q6sLYBxnv\">\n        <label id=\"ipyplot-html-viewer-label-jYqZ9SrUfUG37Q6sLYBxnv\" for=\"ipyplot-html-viewer-toggle-jYqZ9SrUfUG37Q6sLYBxnv\">show html</label>\n        <textarea id=\"ipyplot-html-viewer-textarea-jYqZ9SrUfUG37Q6sLYBxnv\" readonly>\n            \n        <style>\n        #ipyplot-imgs-container-div-K3LqKwHsckehcEPhYivE7b {\n            width: 100%;\n            height: 100%;\n            margin: 0%;\n            overflow: auto;\n            position: relative;\n            overflow-y: scroll;\n        }\n\n        div.ipyplot-placeholder-div-K3LqKwHsckehcEPhYivE7b {\n            width: 200px;\n            display: inline-block;\n            margin: 3px;\n            position: relative;\n        }\n\n        div.ipyplot-content-div-K3LqKwHsckehcEPhYivE7b {\n            width: 200px;\n            background: white;\n            display: inline-block;\n            vertical-align: top;\n            text-align: center;\n            position: relative;\n            border: 2px solid #ddd;\n            top: 0;\n            left: 0;\n        }\n\n        div.ipyplot-content-div-K3LqKwHsckehcEPhYivE7b span.ipyplot-img-close {\n            display: none;\n        }\n\n        div.ipyplot-content-div-K3LqKwHsckehcEPhYivE7b span {\n            width: 100%;\n            height: 100%;\n            position: absolute;\n            top: 0;\n            left: 0;\n        }\n\n        div.ipyplot-content-div-K3LqKwHsckehcEPhYivE7b img {\n            width: 200px;\n        }\n\n        div.ipyplot-content-div-K3LqKwHsckehcEPhYivE7b span.ipyplot-img-close:hover {\n            cursor: zoom-out;\n        }\n        div.ipyplot-content-div-K3LqKwHsckehcEPhYivE7b span.ipyplot-img-expand:hover {\n            cursor: zoom-in;\n        }\n\n        div[id^=ipyplot-content-div-K3LqKwHsckehcEPhYivE7b]:target {\n            transform: scale(2.5);\n            transform-origin: left top;\n            z-index: 5000;\n            top: 0;\n            left: 0;\n            position: absolute;\n        }\n\n        div[id^=ipyplot-content-div-K3LqKwHsckehcEPhYivE7b]:target span.ipyplot-img-close {\n            display: block;\n        }\n\n        div[id^=ipyplot-content-div-K3LqKwHsckehcEPhYivE7b]:target span.ipyplot-img-expand {\n            display: none;\n        }\n        </style>\n    <div id=\"ipyplot-imgs-container-div-K3LqKwHsckehcEPhYivE7b\">\n    <div class=\"ipyplot-placeholder-div-K3LqKwHsckehcEPhYivE7b\">\n        <div id=\"ipyplot-content-div-K3LqKwHsckehcEPhYivE7b-4hc2yUpRTEjnX2nK5hDL48\" class=\"ipyplot-content-div-K3LqKwHsckehcEPhYivE7b\">\n            <h4 style=\"font-size: 12px; word-wrap: break-word;\">logs\\MultiTargets\\TargetEpsilon0</h4>\n            <h4 style=\"font-size: 12px; word-wrap: break-word;\">reward: 0.9866</h4><h4 style=\"font-size: 9px; padding-left: 10px; padding-right: 10px; width: 95%; word-wrap: break-word; white-space: normal;\">logs\\MultiTargets\\TargetEpsilon0.5_16m_largerBoundries\\vids\\final0.gif</h4><img src=\"logs\\MultiTargets\\TargetEpsilon0.5_16m_largerBoundries\\vids\\final0.gif\"/>\n            <a href=\"#!\">\n                <span class=\"ipyplot-img-close\"/>\n            </a>\n            <a href=\"#ipyplot-content-div-K3LqKwHsckehcEPhYivE7b-4hc2yUpRTEjnX2nK5hDL48\">\n                <span class=\"ipyplot-img-expand\"/>\n            </a>\n        </div>\n    </div>\n    </div>\n        </textarea>\n    </div>\n    "
     },
     "metadata": {},
     "output_type": "display_data"
    },
    {
     "data": {
      "text/plain": "<IPython.core.display.HTML object>",
      "text/html": "\n        <style>\n        #ipyplot-imgs-container-div-K3LqKwHsckehcEPhYivE7b {\n            width: 100%;\n            height: 100%;\n            margin: 0%;\n            overflow: auto;\n            position: relative;\n            overflow-y: scroll;\n        }\n\n        div.ipyplot-placeholder-div-K3LqKwHsckehcEPhYivE7b {\n            width: 200px;\n            display: inline-block;\n            margin: 3px;\n            position: relative;\n        }\n\n        div.ipyplot-content-div-K3LqKwHsckehcEPhYivE7b {\n            width: 200px;\n            background: white;\n            display: inline-block;\n            vertical-align: top;\n            text-align: center;\n            position: relative;\n            border: 2px solid #ddd;\n            top: 0;\n            left: 0;\n        }\n\n        div.ipyplot-content-div-K3LqKwHsckehcEPhYivE7b span.ipyplot-img-close {\n            display: none;\n        }\n\n        div.ipyplot-content-div-K3LqKwHsckehcEPhYivE7b span {\n            width: 100%;\n            height: 100%;\n            position: absolute;\n            top: 0;\n            left: 0;\n        }\n\n        div.ipyplot-content-div-K3LqKwHsckehcEPhYivE7b img {\n            width: 200px;\n        }\n\n        div.ipyplot-content-div-K3LqKwHsckehcEPhYivE7b span.ipyplot-img-close:hover {\n            cursor: zoom-out;\n        }\n        div.ipyplot-content-div-K3LqKwHsckehcEPhYivE7b span.ipyplot-img-expand:hover {\n            cursor: zoom-in;\n        }\n\n        div[id^=ipyplot-content-div-K3LqKwHsckehcEPhYivE7b]:target {\n            transform: scale(2.5);\n            transform-origin: left top;\n            z-index: 5000;\n            top: 0;\n            left: 0;\n            position: absolute;\n        }\n\n        div[id^=ipyplot-content-div-K3LqKwHsckehcEPhYivE7b]:target span.ipyplot-img-close {\n            display: block;\n        }\n\n        div[id^=ipyplot-content-div-K3LqKwHsckehcEPhYivE7b]:target span.ipyplot-img-expand {\n            display: none;\n        }\n        </style>\n    <div id=\"ipyplot-imgs-container-div-K3LqKwHsckehcEPhYivE7b\">\n    <div class=\"ipyplot-placeholder-div-K3LqKwHsckehcEPhYivE7b\">\n        <div id=\"ipyplot-content-div-K3LqKwHsckehcEPhYivE7b-4hc2yUpRTEjnX2nK5hDL48\" class=\"ipyplot-content-div-K3LqKwHsckehcEPhYivE7b\">\n            <h4 style=\"font-size: 12px; word-wrap: break-word;\">logs\\MultiTargets\\TargetEpsilon0</h4>\n            <h4 style=\"font-size: 12px; word-wrap: break-word;\">reward: 0.9866</h4><h4 style=\"font-size: 9px; padding-left: 10px; padding-right: 10px; width: 95%; word-wrap: break-word; white-space: normal;\">logs\\MultiTargets\\TargetEpsilon0.5_16m_largerBoundries\\vids\\final0.gif</h4><img src=\"logs\\MultiTargets\\TargetEpsilon0.5_16m_largerBoundries\\vids\\final0.gif\"/>\n            <a href=\"#!\">\n                <span class=\"ipyplot-img-close\"/>\n            </a>\n            <a href=\"#ipyplot-content-div-K3LqKwHsckehcEPhYivE7b-4hc2yUpRTEjnX2nK5hDL48\">\n                <span class=\"ipyplot-img-expand\"/>\n            </a>\n        </div>\n    </div>\n    </div>"
     },
     "metadata": {},
     "output_type": "display_data"
    }
   ],
   "source": [
    "visualize_model(trained_model_dir, targets_n=TARGETS_N, video_dir=video_dir, eval_env=eval_env)"
   ]
  },
  {
   "cell_type": "code",
   "execution_count": 25,
   "id": "ca05a0bd-dc07-4671-b4eb-c25c5a9a8eb4",
   "metadata": {},
   "outputs": [],
   "source": []
  }
 ],
 "metadata": {
  "kernelspec": {
   "display_name": "Python 3 (ipykernel)",
   "language": "python",
   "name": "python3"
  },
  "language_info": {
   "codemirror_mode": {
    "name": "ipython",
    "version": 3
   },
   "file_extension": ".py",
   "mimetype": "text/x-python",
   "name": "python",
   "nbconvert_exporter": "python",
   "pygments_lexer": "ipython3",
   "version": "3.9.7"
  }
 },
 "nbformat": 4,
 "nbformat_minor": 5
}