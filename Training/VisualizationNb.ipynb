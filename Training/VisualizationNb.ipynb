{
 "cells": [
  {
   "cell_type": "markdown",
   "id": "611b4e1e-ecbe-40f7-8035-b7b8a2575699",
   "metadata": {},
   "source": [
    "## Visualizations notebook:\n"
   ]
  },
  {
   "cell_type": "code",
   "execution_count": 1,
   "id": "4332cb85-1602-46fc-8141-3d2057dcddaf",
   "metadata": {
    "tags": []
   },
   "outputs": [],
   "source": [
    "%load_ext autoreload\n",
    "%autoreload 2"
   ]
  },
  {
   "cell_type": "code",
   "execution_count": 2,
   "id": "a7592058-3319-4645-86ba-5277a9de4d3e",
   "metadata": {
    "tags": []
   },
   "outputs": [
    {
     "name": "stdout",
     "output_type": "stream",
     "text": [
      "cpu\n"
     ]
    }
   ],
   "source": [
    "import time\n",
    "import numpy as np\n",
    "import pandas as pd\n",
    "import os\n",
    "import sys\n",
    "\n",
    "\n",
    "from stable_baselines3 import DDPG\n",
    "sys.path.append('..')\n",
    "\n",
    "import MazeEnv.MultiTargetMazeEnv as mtmz\n",
    "from MazeEnv.MazeEnv import Rewards\n",
    "from Utils import clear_files, get_multi_targets_circle_envs, visualize_model\n",
    "\n",
    "from IPython.display import Image\n",
    "import ipyplot\n",
    "\n",
    "import torch\n",
    "device = torch.device('cuda' if torch.cuda.is_available() else 'cpu')\n",
    "print(device)"
   ]
  },
  {
   "cell_type": "code",
   "execution_count": 6,
   "id": "9d2235b1-2108-4235-910e-b649b02518a5",
   "metadata": {
    "tags": []
   },
   "outputs": [],
   "source": [
    "# Generate evaluation environment\n",
    "targets = np.genfromtxt(\"TestTargets/test_coords_0_6to3.5.csv\", delimiter=',')\n",
    "REWARDS = Rewards(target_arrival=1, collision=-1, timeout=0, fall=-1, idle=-0.2e-3)\n",
    "_, eval_env = get_multi_targets_circle_envs(radius=4,\n",
    "                                            targets=targets,\n",
    "                                            timeout_steps=200,\n",
    "                                            rewards=REWARDS,\n",
    "                                            xy_in_obs=False,\n",
    "                                            max_goal_velocity=0.75,\n",
    "                                            show_gui=False,\n",
    "                                            hit_target_epsilon=0.35)\n",
    "                              "
   ]
  },
  {
   "cell_type": "markdown",
   "id": "9f6edd95-44b9-4ab4-93da-e6276891f733",
   "metadata": {},
   "source": [
    "# Visual Results\n",
    "load trained model and show visual results on subset of the targets:"
   ]
  },
  {
   "cell_type": "code",
   "execution_count": 27,
   "id": "028295e1-62d7-4b7c-80f4-29416d938747",
   "metadata": {
    "tags": []
   },
   "outputs": [],
   "source": [
    "trained_model_dir = os.path.join(\"logs\",\"StepperV2CloserTarget0.6_MaxVel0.75_TargetEps3.5\") #should consist file best_model.zip\n",
    "video_dir = os.path.join(trained_model_dir, \"vids\")\n",
    "TARGETS_N = 1"
   ]
  },
  {
   "cell_type": "markdown",
   "id": "f5475f89-81a6-4b37-b542-77251659a2d1",
   "metadata": {},
   "source": [
    "All videos and gifs already saved.\n",
    "Uncomment this cell to recreate evaluation videos again."
   ]
  },
  {
   "cell_type": "code",
   "execution_count": 28,
   "id": "86c9a57c-78e4-4f80-9144-f045f2844b36",
   "metadata": {
    "tags": []
   },
   "outputs": [
    {
     "ename": "ValueError",
     "evalue": "unsupported pickle protocol: 5",
     "output_type": "error",
     "traceback": [
      "\u001B[1;31m---------------------------------------------------------------------------\u001B[0m",
      "\u001B[1;31mValueError\u001B[0m                                Traceback (most recent call last)",
      "\u001B[1;32m~\\AppData\\Local\\Temp/ipykernel_22256/669833690.py\u001B[0m in \u001B[0;36m<module>\u001B[1;34m\u001B[0m\n\u001B[1;32m----> 1\u001B[1;33m \u001B[0mvisualize_model\u001B[0m\u001B[1;33m(\u001B[0m\u001B[0mtrained_model_dir\u001B[0m\u001B[1;33m,\u001B[0m \u001B[0mtargets_n\u001B[0m\u001B[1;33m=\u001B[0m\u001B[0mTARGETS_N\u001B[0m\u001B[1;33m,\u001B[0m \u001B[0mvideo_dir\u001B[0m\u001B[1;33m=\u001B[0m\u001B[0mvideo_dir\u001B[0m\u001B[1;33m,\u001B[0m \u001B[0meval_env\u001B[0m\u001B[1;33m=\u001B[0m\u001B[0meval_env\u001B[0m\u001B[1;33m)\u001B[0m\u001B[1;33m\u001B[0m\u001B[1;33m\u001B[0m\u001B[0m\n\u001B[0m",
      "\u001B[1;32mD:\\OneDrive - Technion\\Studies\\Semester6\\ProjectA\\robomaze\\Training\\Utils.py\u001B[0m in \u001B[0;36mvisualize_model\u001B[1;34m(model_path, targets_n, video_dir, eval_env)\u001B[0m\n\u001B[0;32m    129\u001B[0m     \u001B[0mreach_target_count\u001B[0m \u001B[1;33m=\u001B[0m \u001B[1;36m0\u001B[0m\u001B[1;33m\u001B[0m\u001B[1;33m\u001B[0m\u001B[0m\n\u001B[0;32m    130\u001B[0m \u001B[1;33m\u001B[0m\u001B[0m\n\u001B[1;32m--> 131\u001B[1;33m     \u001B[0mmodel\u001B[0m \u001B[1;33m=\u001B[0m \u001B[0mDDPG\u001B[0m\u001B[1;33m.\u001B[0m\u001B[0mload\u001B[0m\u001B[1;33m(\u001B[0m\u001B[0mos\u001B[0m\u001B[1;33m.\u001B[0m\u001B[0mpath\u001B[0m\u001B[1;33m.\u001B[0m\u001B[0mjoin\u001B[0m\u001B[1;33m(\u001B[0m\u001B[0mmodel_path\u001B[0m\u001B[1;33m,\u001B[0m \u001B[1;34m\"best_model\"\u001B[0m\u001B[1;33m)\u001B[0m\u001B[1;33m)\u001B[0m\u001B[1;33m\u001B[0m\u001B[1;33m\u001B[0m\u001B[0m\n\u001B[0m\u001B[0;32m    132\u001B[0m \u001B[1;33m\u001B[0m\u001B[0m\n\u001B[0;32m    133\u001B[0m     \u001B[1;32mif\u001B[0m \u001B[1;32mnot\u001B[0m \u001B[0mos\u001B[0m\u001B[1;33m.\u001B[0m\u001B[0mpath\u001B[0m\u001B[1;33m.\u001B[0m\u001B[0mexists\u001B[0m\u001B[1;33m(\u001B[0m\u001B[0mvideo_dir\u001B[0m\u001B[1;33m)\u001B[0m\u001B[1;33m:\u001B[0m\u001B[1;33m\u001B[0m\u001B[1;33m\u001B[0m\u001B[0m\n",
      "\u001B[1;32md:\\onedrive - technion\\studies\\semester6\\projecta\\robomaze\\mazevenv\\lib\\site-packages\\stable_baselines3\\common\\base_class.py\u001B[0m in \u001B[0;36mload\u001B[1;34m(cls, path, env, device, custom_objects, **kwargs)\u001B[0m\n\u001B[0;32m    649\u001B[0m         \u001B[1;33m:\u001B[0m\u001B[0mparam\u001B[0m \u001B[0mkwargs\u001B[0m\u001B[1;33m:\u001B[0m \u001B[0mextra\u001B[0m \u001B[0marguments\u001B[0m \u001B[0mto\u001B[0m \u001B[0mchange\u001B[0m \u001B[0mthe\u001B[0m \u001B[0mmodel\u001B[0m \u001B[0mwhen\u001B[0m \u001B[0mloading\u001B[0m\u001B[1;33m\u001B[0m\u001B[1;33m\u001B[0m\u001B[0m\n\u001B[0;32m    650\u001B[0m         \"\"\"\n\u001B[1;32m--> 651\u001B[1;33m         \u001B[0mdata\u001B[0m\u001B[1;33m,\u001B[0m \u001B[0mparams\u001B[0m\u001B[1;33m,\u001B[0m \u001B[0mpytorch_variables\u001B[0m \u001B[1;33m=\u001B[0m \u001B[0mload_from_zip_file\u001B[0m\u001B[1;33m(\u001B[0m\u001B[0mpath\u001B[0m\u001B[1;33m,\u001B[0m \u001B[0mdevice\u001B[0m\u001B[1;33m=\u001B[0m\u001B[0mdevice\u001B[0m\u001B[1;33m,\u001B[0m \u001B[0mcustom_objects\u001B[0m\u001B[1;33m=\u001B[0m\u001B[0mcustom_objects\u001B[0m\u001B[1;33m)\u001B[0m\u001B[1;33m\u001B[0m\u001B[1;33m\u001B[0m\u001B[0m\n\u001B[0m\u001B[0;32m    652\u001B[0m \u001B[1;33m\u001B[0m\u001B[0m\n\u001B[0;32m    653\u001B[0m         \u001B[1;31m# Remove stored device information and replace with ours\u001B[0m\u001B[1;33m\u001B[0m\u001B[1;33m\u001B[0m\u001B[1;33m\u001B[0m\u001B[0m\n",
      "\u001B[1;32md:\\onedrive - technion\\studies\\semester6\\projecta\\robomaze\\mazevenv\\lib\\site-packages\\stable_baselines3\\common\\save_util.py\u001B[0m in \u001B[0;36mload_from_zip_file\u001B[1;34m(load_path, load_data, custom_objects, device, verbose)\u001B[0m\n\u001B[0;32m    400\u001B[0m                 \u001B[1;31m# with either JSON or pickle (not PyTorch variables).\u001B[0m\u001B[1;33m\u001B[0m\u001B[1;33m\u001B[0m\u001B[1;33m\u001B[0m\u001B[0m\n\u001B[0;32m    401\u001B[0m                 \u001B[0mjson_data\u001B[0m \u001B[1;33m=\u001B[0m \u001B[0marchive\u001B[0m\u001B[1;33m.\u001B[0m\u001B[0mread\u001B[0m\u001B[1;33m(\u001B[0m\u001B[1;34m\"data\"\u001B[0m\u001B[1;33m)\u001B[0m\u001B[1;33m.\u001B[0m\u001B[0mdecode\u001B[0m\u001B[1;33m(\u001B[0m\u001B[1;33m)\u001B[0m\u001B[1;33m\u001B[0m\u001B[1;33m\u001B[0m\u001B[0m\n\u001B[1;32m--> 402\u001B[1;33m                 \u001B[0mdata\u001B[0m \u001B[1;33m=\u001B[0m \u001B[0mjson_to_data\u001B[0m\u001B[1;33m(\u001B[0m\u001B[0mjson_data\u001B[0m\u001B[1;33m,\u001B[0m \u001B[0mcustom_objects\u001B[0m\u001B[1;33m=\u001B[0m\u001B[0mcustom_objects\u001B[0m\u001B[1;33m)\u001B[0m\u001B[1;33m\u001B[0m\u001B[1;33m\u001B[0m\u001B[0m\n\u001B[0m\u001B[0;32m    403\u001B[0m \u001B[1;33m\u001B[0m\u001B[0m\n\u001B[0;32m    404\u001B[0m             \u001B[1;31m# Check for all .pth files and load them using th.load.\u001B[0m\u001B[1;33m\u001B[0m\u001B[1;33m\u001B[0m\u001B[1;33m\u001B[0m\u001B[0m\n",
      "\u001B[1;32md:\\onedrive - technion\\studies\\semester6\\projecta\\robomaze\\mazevenv\\lib\\site-packages\\stable_baselines3\\common\\save_util.py\u001B[0m in \u001B[0;36mjson_to_data\u001B[1;34m(json_string, custom_objects)\u001B[0m\n\u001B[0;32m    162\u001B[0m             \u001B[1;32mtry\u001B[0m\u001B[1;33m:\u001B[0m\u001B[1;33m\u001B[0m\u001B[1;33m\u001B[0m\u001B[0m\n\u001B[0;32m    163\u001B[0m                 \u001B[0mbase64_object\u001B[0m \u001B[1;33m=\u001B[0m \u001B[0mbase64\u001B[0m\u001B[1;33m.\u001B[0m\u001B[0mb64decode\u001B[0m\u001B[1;33m(\u001B[0m\u001B[0mserialization\u001B[0m\u001B[1;33m.\u001B[0m\u001B[0mencode\u001B[0m\u001B[1;33m(\u001B[0m\u001B[1;33m)\u001B[0m\u001B[1;33m)\u001B[0m\u001B[1;33m\u001B[0m\u001B[1;33m\u001B[0m\u001B[0m\n\u001B[1;32m--> 164\u001B[1;33m                 \u001B[0mdeserialized_object\u001B[0m \u001B[1;33m=\u001B[0m \u001B[0mcloudpickle\u001B[0m\u001B[1;33m.\u001B[0m\u001B[0mloads\u001B[0m\u001B[1;33m(\u001B[0m\u001B[0mbase64_object\u001B[0m\u001B[1;33m)\u001B[0m\u001B[1;33m\u001B[0m\u001B[1;33m\u001B[0m\u001B[0m\n\u001B[0m\u001B[0;32m    165\u001B[0m             \u001B[1;32mexcept\u001B[0m \u001B[1;33m(\u001B[0m\u001B[0mRuntimeError\u001B[0m\u001B[1;33m,\u001B[0m \u001B[0mTypeError\u001B[0m\u001B[1;33m)\u001B[0m\u001B[1;33m:\u001B[0m\u001B[1;33m\u001B[0m\u001B[1;33m\u001B[0m\u001B[0m\n\u001B[0;32m    166\u001B[0m                 warnings.warn(\n",
      "\u001B[1;31mValueError\u001B[0m: unsupported pickle protocol: 5"
     ]
    }
   ],
   "source": [
    "visualize_model(trained_model_dir, targets_n=TARGETS_N, video_dir=video_dir, eval_env=eval_env)"
   ]
  },
  {
   "cell_type": "code",
   "execution_count": 26,
   "id": "ca05a0bd-dc07-4671-b4eb-c25c5a9a8eb4",
   "metadata": {},
   "outputs": [
    {
     "name": "stdout",
     "output_type": "stream",
     "text": [
      "!\n",
      " Volume in drive D is LENOVO\n",
      " Volume Serial Number is 8449-711E\n",
      "\n",
      " Directory of D:\\OneDrive - Technion\\Studies\\Semester6\\ProjectA\\robomaze\\Training\n",
      "\n",
      "04/28/2022  12:03 PM    <DIR>          .\n",
      "04/28/2022  12:03 PM    <DIR>          ..\n",
      "10/08/2021  05:04 PM    <DIR>          .ipynb_checkpoints\n",
      "10/23/2021  06:17 PM                 0 __init__.py\n",
      "04/28/2022  11:56 AM    <DIR>          __pycache__\n",
      "04/28/2022  11:59 AM         2,078,951 curr_maze.urdf\n",
      "04/28/2022  11:05 AM            12,012 Evaluation.py\n",
      "02/22/2022  03:56 PM           160,691 FineTuneMultiple.ipynb\n",
      "04/28/2022  11:48 AM             4,103 FineTuneStepper.py\n",
      "04/28/2022  11:33 AM    <DIR>          logs\n",
      "02/22/2022  03:56 PM           110,810 MultipleTargets.ipynb\n",
      "02/22/2022  03:56 PM           145,875 MultipleTargetsSmaller.ipynb\n",
      "04/26/2022  06:41 PM    <DIR>          StepperV2\n",
      "04/28/2022  11:05 AM    <DIR>          TestTargets\n",
      "10/23/2021  06:17 PM             9,197 TrainCircleWithHER.ipynb\n",
      "10/23/2021  06:17 PM            78,210 TrainDummyMaze.ipynb\n",
      "04/28/2022  11:36 AM             4,071 TrainStepper.py\n",
      "04/28/2022  11:05 AM             6,793 Utils.py\n",
      "10/11/2021  10:11 PM    <DIR>          videos\n",
      "04/28/2022  12:03 PM            20,573 VisualizationNb.ipynb\n",
      "04/28/2022  11:37 AM    <DIR>          wandb\n",
      "              12 File(s)      2,631,286 bytes\n",
      "               9 Dir(s)  895,453,319,168 bytes free\n"
     ]
    }
   ],
   "source": [
    "%echo !\n",
    "%ls"
   ]
  },
  {
   "cell_type": "code",
   "execution_count": null,
   "outputs": [],
   "source": [],
   "metadata": {
    "collapsed": false,
    "pycharm": {
     "name": "#%%\n"
    }
   }
  }
 ],
 "metadata": {
  "kernelspec": {
   "display_name": "Python 3 (ipykernel)",
   "language": "python",
   "name": "python3"
  },
  "language_info": {
   "codemirror_mode": {
    "name": "ipython",
    "version": 3
   },
   "file_extension": ".py",
   "mimetype": "text/x-python",
   "name": "python",
   "nbconvert_exporter": "python",
   "pygments_lexer": "ipython3",
   "version": "3.9.7"
  }
 },
 "nbformat": 4,
 "nbformat_minor": 5
}