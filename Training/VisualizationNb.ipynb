{
 "cells": [
  {
   "cell_type": "markdown",
   "id": "611b4e1e-ecbe-40f7-8035-b7b8a2575699",
   "metadata": {},
   "source": [
    "## Visualizations notebook:\n"
   ]
  },
  {
   "cell_type": "code",
   "execution_count": 67,
   "id": "4332cb85-1602-46fc-8141-3d2057dcddaf",
   "metadata": {
    "tags": []
   },
   "outputs": [],
   "source": [
    "%load_ext autoreload\n",
    "%autoreload 2"
   ]
  },
  {
   "cell_type": "code",
   "execution_count": 94,
   "id": "a7592058-3319-4645-86ba-5277a9de4d3e",
   "metadata": {
    "tags": []
   },
   "outputs": [
    {
     "name": "stdout",
     "output_type": "stream",
     "text": [
      "cuda\n"
     ]
    }
   ],
   "source": [
    "import time\n",
    "import numpy as np\n",
    "import pandas as pd\n",
    "import os\n",
    "import sys\n",
    "\n",
    "\n",
    "from stable_baselines3 import DDPG\n",
    "sys.path.append('..')\n",
    "\n",
    "import MazeEnv.MultiTargetMazeEnv as mtmz\n",
    "from MazeEnv.MazeEnv import Rewards\n",
    "from Utils import clear_files, get_multi_targets_circle_envs, visualize_model\n",
    "\n",
    "from IPython.display import Image\n",
    "import ipyplot\n",
    "\n",
    "import torch\n",
    "device = torch.device('cuda' if torch.cuda.is_available() else 'cpu')\n",
    "print(device)"
   ]
  },
  {
   "cell_type": "code",
   "execution_count": 95,
   "id": "9d2235b1-2108-4235-910e-b649b02518a5",
   "metadata": {
    "tags": []
   },
   "outputs": [],
   "source": [
    "# Generate evaluation environment\n",
    "targets = np.genfromtxt(\"TestTargets/test_coords.csv\", delimiter=',')\n",
    "REWARDS = Rewards(target_arrival=1, collision=-1, timeout=0, fall=-1, idle=-0.2e-3)\n",
    "_, eval_env = get_multi_targets_circle_envs(radius=4,\n",
    "                                            targets=targets,\n",
    "                                            timeout_steps=200,\n",
    "                                            rewards=REWARDS,\n",
    "                                            monitor_dir=\"logs/FineTuneMultiple/tmp\",\n",
    "                                            xy_in_obs=False)\n",
    "                              "
   ]
  },
  {
   "cell_type": "markdown",
   "id": "9f6edd95-44b9-4ab4-93da-e6276891f733",
   "metadata": {},
   "source": [
    "# Visual Results\n",
    "load trained model and show visual results on subset of the targets:"
   ]
  },
  {
   "cell_type": "code",
   "execution_count": 99,
   "id": "028295e1-62d7-4b7c-80f4-29416d938747",
   "metadata": {
    "tags": []
   },
   "outputs": [],
   "source": [
    "trainedModelDir = os.path.join(\"logs\", \"FineTuneMultiple\") #should consist file best_model.zip\n",
    "videoDir = os.path.join(trainedModelDir, \"vids\")\n",
    "TARGETS_N = 1"
   ]
  },
  {
   "cell_type": "code",
   "execution_count": 100,
   "id": "9d56fd34-b91a-47b3-8122-ed932e8f4edc",
   "metadata": {
    "tags": []
   },
   "outputs": [],
   "source": [
    "clear_files('logs/FineTuneMultiple/vids/*')"
   ]
  },
  {
   "cell_type": "markdown",
   "id": "f5475f89-81a6-4b37-b542-77251659a2d1",
   "metadata": {},
   "source": [
    "All videos and gifs already saved.\n",
    "Uncomment this cell to recreate evaluation videos again."
   ]
  },
  {
   "cell_type": "code",
   "execution_count": 98,
   "id": "86c9a57c-78e4-4f80-9144-f045f2844b36",
   "metadata": {
    "tags": []
   },
   "outputs": [
    {
     "name": "stdout",
     "output_type": "stream",
     "text": [
      "logs/FineTuneMultiple/vids/final0.avi\n",
      "logs/FineTuneMultiple/vids/final1.avi\n",
      "logs/FineTuneMultiple/vids/final2.avi\n",
      "logs/FineTuneMultiple/vids/final3.avi\n",
      "logs/FineTuneMultiple/vids/final4.avi\n",
      "logs/FineTuneMultiple/vids/final5.avi\n",
      "logs/FineTuneMultiple/vids/final6.avi\n"
     ]
    },
    {
     "ename": "KeyboardInterrupt",
     "evalue": "",
     "output_type": "error",
     "traceback": [
      "\u001b[0;31m---------------------------------------------------------------------------\u001b[0m",
      "\u001b[0;31mKeyboardInterrupt\u001b[0m                         Traceback (most recent call last)",
      "\u001b[0;32m/tmp/ipykernel_8251/3378871335.py\u001b[0m in \u001b[0;36m<module>\u001b[0;34m\u001b[0m\n\u001b[0;32m----> 1\u001b[0;31m \u001b[0mvisualize_model\u001b[0m\u001b[0;34m(\u001b[0m\u001b[0mtrainedModelDir\u001b[0m\u001b[0;34m,\u001b[0m \u001b[0mtargets_n\u001b[0m\u001b[0;34m=\u001b[0m\u001b[0mTARGETS_N\u001b[0m\u001b[0;34m,\u001b[0m \u001b[0mvideo_dir\u001b[0m\u001b[0;34m=\u001b[0m\u001b[0mvideoDir\u001b[0m\u001b[0;34m,\u001b[0m \u001b[0meval_env\u001b[0m\u001b[0;34m=\u001b[0m\u001b[0meval_env\u001b[0m\u001b[0;34m)\u001b[0m\u001b[0;34m\u001b[0m\u001b[0;34m\u001b[0m\u001b[0m\n\u001b[0m",
      "\u001b[0;32m~/robomaze/Training/Utils.py\u001b[0m in \u001b[0;36mvisualize_model\u001b[0;34m(model_path, targets_n, video_dir, eval_env)\u001b[0m\n\u001b[1;32m     98\u001b[0m         \u001b[0;32mwhile\u001b[0m \u001b[0;32mnot\u001b[0m \u001b[0mdone\u001b[0m\u001b[0;34m:\u001b[0m\u001b[0;34m\u001b[0m\u001b[0;34m\u001b[0m\u001b[0m\n\u001b[1;32m     99\u001b[0m             \u001b[0maction\u001b[0m\u001b[0;34m,\u001b[0m \u001b[0m_\u001b[0m \u001b[0;34m=\u001b[0m \u001b[0mmodel\u001b[0m\u001b[0;34m.\u001b[0m\u001b[0mpredict\u001b[0m\u001b[0;34m(\u001b[0m\u001b[0mobs\u001b[0m\u001b[0;34m,\u001b[0m \u001b[0mdeterministic\u001b[0m\u001b[0;34m=\u001b[0m\u001b[0;32mTrue\u001b[0m\u001b[0;34m)\u001b[0m\u001b[0;34m\u001b[0m\u001b[0;34m\u001b[0m\u001b[0m\n\u001b[0;32m--> 100\u001b[0;31m             \u001b[0mobs\u001b[0m\u001b[0;34m,\u001b[0m \u001b[0mreward\u001b[0m\u001b[0;34m,\u001b[0m \u001b[0mdone\u001b[0m\u001b[0;34m,\u001b[0m \u001b[0m_\u001b[0m \u001b[0;34m=\u001b[0m \u001b[0meval_env\u001b[0m\u001b[0;34m.\u001b[0m\u001b[0mstep\u001b[0m\u001b[0;34m(\u001b[0m\u001b[0maction\u001b[0m\u001b[0;34m)\u001b[0m\u001b[0;34m\u001b[0m\u001b[0;34m\u001b[0m\u001b[0m\n\u001b[0m\u001b[1;32m    101\u001b[0m             \u001b[0mepisode_reward\u001b[0m \u001b[0;34m+=\u001b[0m \u001b[0mreward\u001b[0m\u001b[0;34m\u001b[0m\u001b[0;34m\u001b[0m\u001b[0m\n\u001b[1;32m    102\u001b[0m \u001b[0;34m\u001b[0m\u001b[0m\n",
      "\u001b[0;32m~/robomaze/Training/../MazeEnv/MazeEnv.py\u001b[0m in \u001b[0;36mstep\u001b[0;34m(self, action)\u001b[0m\n\u001b[1;32m    189\u001b[0m         \u001b[0;32mif\u001b[0m \u001b[0mself\u001b[0m\u001b[0;34m.\u001b[0m\u001b[0m_recorder\u001b[0m\u001b[0;34m.\u001b[0m\u001b[0mis_recording\u001b[0m \u001b[0;32mand\u001b[0m\u001b[0;31m \u001b[0m\u001b[0;31m\\\u001b[0m\u001b[0;34m\u001b[0m\u001b[0;34m\u001b[0m\u001b[0m\n\u001b[1;32m    190\u001b[0m                 \u001b[0mself\u001b[0m\u001b[0;34m.\u001b[0m\u001b[0mstep_count\u001b[0m \u001b[0;34m%\u001b[0m \u001b[0mself\u001b[0m\u001b[0;34m.\u001b[0m\u001b[0mvideo_skip_frames\u001b[0m \u001b[0;34m==\u001b[0m \u001b[0;36m0\u001b[0m\u001b[0;34m:\u001b[0m\u001b[0;34m\u001b[0m\u001b[0;34m\u001b[0m\u001b[0m\n\u001b[0;32m--> 191\u001b[0;31m             \u001b[0mself\u001b[0m\u001b[0;34m.\u001b[0m\u001b[0m_recorder\u001b[0m\u001b[0;34m.\u001b[0m\u001b[0minsert_current_frame\u001b[0m\u001b[0;34m(\u001b[0m\u001b[0;34m)\u001b[0m\u001b[0;34m\u001b[0m\u001b[0;34m\u001b[0m\u001b[0m\n\u001b[0m\u001b[1;32m    192\u001b[0m \u001b[0;34m\u001b[0m\u001b[0m\n\u001b[1;32m    193\u001b[0m         \u001b[0;31m# if done and recording save video\u001b[0m\u001b[0;34m\u001b[0m\u001b[0;34m\u001b[0m\u001b[0m\n",
      "\u001b[0;32m~/robomaze/Training/../MazeEnv/Recorder.py\u001b[0m in \u001b[0;36minsert_current_frame\u001b[0;34m(self)\u001b[0m\n\u001b[1;32m     71\u001b[0m \u001b[0;34m\u001b[0m\u001b[0m\n\u001b[1;32m     72\u001b[0m     \u001b[0;32mdef\u001b[0m \u001b[0minsert_current_frame\u001b[0m\u001b[0;34m(\u001b[0m\u001b[0mself\u001b[0m\u001b[0;34m)\u001b[0m\u001b[0;34m:\u001b[0m\u001b[0;34m\u001b[0m\u001b[0;34m\u001b[0m\u001b[0m\n\u001b[0;32m---> 73\u001b[0;31m         _, _, image_array, _, _ = self._pclient.getCameraImage(width=self._video_size[0],\n\u001b[0m\u001b[1;32m     74\u001b[0m                                                    \u001b[0mheight\u001b[0m\u001b[0;34m=\u001b[0m\u001b[0mself\u001b[0m\u001b[0;34m.\u001b[0m\u001b[0m_video_size\u001b[0m\u001b[0;34m[\u001b[0m\u001b[0;36m1\u001b[0m\u001b[0;34m]\u001b[0m\u001b[0;34m,\u001b[0m\u001b[0;34m\u001b[0m\u001b[0;34m\u001b[0m\u001b[0m\n\u001b[1;32m     75\u001b[0m                                                    \u001b[0mviewMatrix\u001b[0m\u001b[0;34m=\u001b[0m\u001b[0mself\u001b[0m\u001b[0;34m.\u001b[0m\u001b[0m_view_matrix\u001b[0m\u001b[0;34m,\u001b[0m\u001b[0;34m\u001b[0m\u001b[0;34m\u001b[0m\u001b[0m\n",
      "\u001b[0;31mKeyboardInterrupt\u001b[0m: "
     ]
    }
   ],
   "source": [
    "visualize_model(trainedModelDir, targets_n=TARGETS_N, video_dir=videoDir, eval_env=eval_env)"
   ]
  },
  {
   "cell_type": "code",
   "execution_count": null,
   "id": "ca05a0bd-dc07-4671-b4eb-c25c5a9a8eb4",
   "metadata": {},
   "outputs": [],
   "source": []
  }
 ],
 "metadata": {
  "kernelspec": {
   "display_name": "Python 3 (ipykernel)",
   "language": "python",
   "name": "python3"
  },
  "language_info": {
   "codemirror_mode": {
    "name": "ipython",
    "version": 3
   },
   "file_extension": ".py",
   "mimetype": "text/x-python",
   "name": "python",
   "nbconvert_exporter": "python",
   "pygments_lexer": "ipython3",
   "version": "3.9.7"
  }
 },
 "nbformat": 4,
 "nbformat_minor": 5
}
