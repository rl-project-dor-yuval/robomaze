{
 "cells": [
  {
   "cell_type": "code",
   "execution_count": 9,
   "id": "f637bf72-3b31-4453-ade5-8fb6a43900f7",
   "metadata": {},
   "outputs": [
    {
     "name": "stdout",
     "output_type": "stream",
     "text": [
      "The autoreload extension is already loaded. To reload it, use:\n",
      "  %reload_ext autoreload\n"
     ]
    }
   ],
   "source": [
    "%load_ext autoreload\n",
    "%autoreload 2"
   ]
  },
  {
   "cell_type": "code",
   "execution_count": 11,
   "id": "66e0c999-c5da-4a12-a308-f2b47124a05b",
   "metadata": {},
   "outputs": [
    {
     "name": "stdout",
     "output_type": "stream",
     "text": [
      "cpu\n"
     ]
    }
   ],
   "source": [
    "import time\n",
    "import numpy as np\n",
    "import pandas as pd\n",
    "import matplotlib.pyplot as plt\n",
    "\n",
    "import os\n",
    "import sys\n",
    "from stable_baselines3.common.monitor import Monitor\n",
    "from stable_baselines3 import DDPG\n",
    "from stable_baselines3.common.env_checker import check_env\n",
    "\n",
    "import matplotlib.pyplot as plt\n",
    "\n",
    "sys.path.append('..')\n",
    "\n",
    "import MazeEnv.MultiTargetMazeEnv as mtmz\n",
    "from MazeEnv.MazeEnv import Rewards\n",
    "from Utils import make_circular_map, clear_files\n",
    "from Evaluation import EvalAndSaveCallback\n",
    "import Evaluation\n",
    "\n",
    "import torch\n",
    "device = torch.device('cuda' if torch.cuda.is_available() else 'cpu')\n",
    "print(device)"
   ]
  },
  {
   "cell_type": "code",
   "execution_count": 14,
   "id": "2b911f33-bd5a-43dd-aea8-219262d90020",
   "metadata": {},
   "outputs": [],
   "source": [
    "TOTAL_TIME_STEPS = 1000 #number of training timesteps\n",
    "TIMEOUT_STEPS = 200 # Timeout Steps of each episode\n",
    "BUFFER_SIZE = 1000 # smaller buffer for small task\n",
    "LEARNING_RATE = 0.001\n",
    "\n",
    "REWARDS = Rewards(target_arrival=10, collision=-10, timeout=-10, idle=-0.01)\n",
    "\n",
    "EVAL_EPISODES=10\n",
    "EVAL_FREQ=200\n",
    "VIDEO_FREQ=4"
   ]
  },
  {
   "cell_type": "code",
   "execution_count": 18,
   "id": "6b80c36f-2579-42f8-9a81-a29b12bfaf6e",
   "metadata": {},
   "outputs": [
    {
     "name": "stdout",
     "output_type": "stream",
     "text": [
      "Using cpu device\n",
      "Wrapping the env in a DummyVecEnv.\n"
     ]
    }
   ],
   "source": [
    "# create environment :\n",
    "tile_size = 0.1\n",
    "maze_size = mz.MazeSize.SQUARE10\n",
    "map_size = np.dot(maze_size, int(1 / tile_size))\n",
    "maze_map = make_circular_map(map_size, 4 / tile_size)\n",
    "# maze_map = np.zeros(map_size)\n",
    "\n",
    "start_loc = (5, 5)\n",
    "targets = np.genfromtxt(\"TestTargets/test_coords.csv\", delimiter=',')\n",
    "\n",
    "maze_env = mtmz.MultiTargetMazeEnv(maze_size=maze_size,\n",
    "                                   maze_map=maze_map,\n",
    "                                   tile_size=tile_size,\n",
    "                                   start_loc=start_loc,\n",
    "                                   target_loc_list=targets,\n",
    "                                   timeout_steps=TIMEOUT_STEPS,\n",
    "                                   show_gui=False,\n",
    "                                   rewards=REWARDS)\n",
    "maze_env = Monitor(maze_env, filename=\"logs/MultiTargets/results\")\n",
    "\n",
    "check_env(maze_env)\n",
    "\n",
    "# create separete evaluation environment:\n",
    "eval_maze_env =mtmz.MultiTargetMazeEnv(maze_size=maze_size,\n",
    "                                       maze_map=maze_map,\n",
    "                                       tile_size=tile_size,\n",
    "                                       start_loc=start_loc,\n",
    "                                       target_loc_list=targets,\n",
    "                                       timeout_steps=TIMEOUT_STEPS,\n",
    "                                       show_gui=False,\n",
    "                                       rewards=REWARDS)\n",
    "_ = eval_maze_env.reset()\n",
    " \n",
    "# create model:\n",
    "model = DDPG(policy=\"MlpPolicy\",\n",
    "             env=maze_env,\n",
    "             buffer_size=BUFFER_SIZE,\n",
    "             learning_rate=LEARNING_RATE,\n",
    "             device=device,\n",
    "             train_freq=(1, \"episode\"),\n",
    "             verbose=1)\n",
    "\n",
    "# create callback for evaluation\n",
    "callback = EvalAndSaveCallback(log_dir=\"logs/MultiTargets\",\n",
    "                               eval_env=eval_maze_env,\n",
    "                               eval_freq=EVAL_FREQ,\n",
    "                               eval_episodes=EVAL_EPISODES,\n",
    "                               eval_video_freq=VIDEO_FREQ,\n",
    "                               verbose=1)"
   ]
  },
  {
   "cell_type": "code",
   "execution_count": 20,
   "id": "1fb18c11-8585-4953-9caa-e73847cf6d2d",
   "metadata": {
    "tags": []
   },
   "outputs": [
    {
     "name": "stderr",
     "output_type": "stream",
     "text": [
      "c:\\study\\projecta\\robomaze\\venv\\lib\\site-packages\\stable_baselines3\\common\\evaluation.py:65: UserWarning: Evaluation environment is not wrapped with a ``Monitor`` wrapper. This may result in reporting modified episode lengths and rewards, if other wrappers happen to modify these. Consider wrapping environment first with ``Monitor`` wrapper.\n",
      "  warnings.warn(\n"
     ]
    },
    {
     "name": "stdout",
     "output_type": "stream",
     "text": [
      "200 Steps evaluation, avg reward:-11.989999955520034, avg episode length: 200.0\n",
      "rewards: [-11.989999955520034, -11.989999955520034, -11.989999955520034, -11.989999955520034, -11.989999955520034, -11.989999955520034, -11.989999955520034, -11.989999955520034, -11.989999955520034, -11.989999955520034]\n",
      "episode lengths: [200, 200, 200, 200, 200, 200, 200, 200, 200, 200]\n",
      "--Saving new best model--\n",
      "400 Steps evaluation, avg reward:-11.989999955520034, avg episode length: 200.0\n",
      "rewards: [-11.989999955520034, -11.989999955520034, -11.989999955520034, -11.989999955520034, -11.989999955520034, -11.989999955520034, -11.989999955520034, -11.989999955520034, -11.989999955520034, -11.989999955520034]\n",
      "episode lengths: [200, 200, 200, 200, 200, 200, 200, 200, 200, 200]\n",
      "600 Steps evaluation, avg reward:-11.989999955520034, avg episode length: 200.0\n",
      "rewards: [-11.989999955520034, -11.989999955520034, -11.989999955520034, -11.989999955520034, -11.989999955520034, -11.989999955520034, -11.989999955520034, -11.989999955520034, -11.989999955520034, -11.989999955520034]\n",
      "episode lengths: [200, 200, 200, 200, 200, 200, 200, 200, 200, 200]\n",
      "800 Steps evaluation, avg reward:-11.989999955520034, avg episode length: 200.0\n",
      "rewards: [-11.989999955520034, -11.989999955520034, -11.989999955520034, -11.989999955520034, -11.989999955520034, -11.989999955520034, -11.989999955520034, -11.989999955520034, -11.989999955520034, -11.989999955520034]\n",
      "episode lengths: [200, 200, 200, 200, 200, 200, 200, 200, 200, 200]\n",
      "creating video\n",
      "---------------------------------\n",
      "| rollout/           |          |\n",
      "|    ep_len_mean     | 200      |\n",
      "|    ep_rew_mean     | -12      |\n",
      "| time/              |          |\n",
      "|    episodes        | 4        |\n",
      "|    fps             | 25       |\n",
      "|    time_elapsed    | 30       |\n",
      "|    total timesteps | 800      |\n",
      "| train/             |          |\n",
      "|    actor_loss      | -0.344   |\n",
      "|    critic_loss     | 0.522    |\n",
      "|    learning_rate   | 0.001    |\n",
      "|    n_updates       | 600      |\n",
      "---------------------------------\n",
      "1000 Steps evaluation, avg reward:-11.989999955520034, avg episode length: 200.0\n",
      "rewards: [-11.989999955520034, -11.989999955520034, -11.989999955520034, -11.989999955520034, -11.989999955520034, -11.989999955520034, -11.989999955520034, -11.989999955520034, -11.989999955520034, -11.989999955520034]\n",
      "episode lengths: [200, 200, 200, 200, 200, 200, 200, 200, 200, 200]\n",
      "time 37.716850996017456\n"
     ]
    }
   ],
   "source": [
    "start = time.time()\n",
    "\n",
    "#clean all movies from the previous run\n",
    "clear_files('logs/MultiTargets/*_steps.avi')\n",
    "\n",
    "torch.manual_seed(3295)\n",
    "model.learn(total_timesteps=TOTAL_TIME_STEPS,\n",
    "            callback=callback)\n",
    " \n",
    "print(\"time\", time.time() - start)"
   ]
  },
  {
   "cell_type": "code",
   "execution_count": 21,
   "id": "7d9f06ad-2599-4543-bafd-c31e5079f5bc",
   "metadata": {},
   "outputs": [
    {
     "name": "stdout",
     "output_type": "stream",
     "text": [
      "Wrapping the env in a DummyVecEnv.\n",
      "Reward: -11.990000000000002\n"
     ]
    },
    {
     "ename": "NameError",
     "evalue": "name 'os' is not defined",
     "output_type": "error",
     "traceback": [
      "\u001b[1;31m---------------------------------------------------------------------------\u001b[0m",
      "\u001b[1;31mNameError\u001b[0m                                 Traceback (most recent call last)",
      "\u001b[1;32m~\\AppData\\Local\\Temp/ipykernel_3708/3341293160.py\u001b[0m in \u001b[0;36m<module>\u001b[1;34m\u001b[0m\n\u001b[0;32m     13\u001b[0m \u001b[1;33m\u001b[0m\u001b[0m\n\u001b[0;32m     14\u001b[0m \u001b[1;31m#Clean previous gifs\u001b[0m\u001b[1;33m\u001b[0m\u001b[1;33m\u001b[0m\u001b[1;33m\u001b[0m\u001b[0m\n\u001b[1;32m---> 15\u001b[1;33m \u001b[0mclear_files\u001b[0m\u001b[1;33m(\u001b[0m\u001b[1;34m'logs/MultiTargets/*_steps.gif'\u001b[0m\u001b[1;33m)\u001b[0m\u001b[1;33m\u001b[0m\u001b[1;33m\u001b[0m\u001b[0m\n\u001b[0m\u001b[0;32m     16\u001b[0m \u001b[1;33m\u001b[0m\u001b[0m\n\u001b[0;32m     17\u001b[0m \u001b[1;31m# Plot gifs\u001b[0m\u001b[1;33m\u001b[0m\u001b[1;33m\u001b[0m\u001b[1;33m\u001b[0m\u001b[0m\n",
      "\u001b[1;32mC:\\Study\\ProjectA\\robomaze\\Training\\Utils.py\u001b[0m in \u001b[0;36mclear_files\u001b[1;34m(path)\u001b[0m\n\u001b[0;32m      9\u001b[0m     \u001b[0mfiles\u001b[0m \u001b[1;33m=\u001b[0m \u001b[0mglob\u001b[0m\u001b[1;33m.\u001b[0m\u001b[0mglob\u001b[0m\u001b[1;33m(\u001b[0m\u001b[0mpath\u001b[0m\u001b[1;33m)\u001b[0m\u001b[1;33m\u001b[0m\u001b[1;33m\u001b[0m\u001b[0m\n\u001b[0;32m     10\u001b[0m     \u001b[1;32mfor\u001b[0m \u001b[0mf\u001b[0m \u001b[1;32min\u001b[0m \u001b[0mfiles\u001b[0m\u001b[1;33m:\u001b[0m\u001b[1;33m\u001b[0m\u001b[1;33m\u001b[0m\u001b[0m\n\u001b[1;32m---> 11\u001b[1;33m         \u001b[0mos\u001b[0m\u001b[1;33m.\u001b[0m\u001b[0mremove\u001b[0m\u001b[1;33m(\u001b[0m\u001b[0mf\u001b[0m\u001b[1;33m)\u001b[0m\u001b[1;33m\u001b[0m\u001b[1;33m\u001b[0m\u001b[0m\n\u001b[0m\u001b[0;32m     12\u001b[0m \u001b[1;33m\u001b[0m\u001b[0m\n\u001b[0;32m     13\u001b[0m \u001b[1;32mdef\u001b[0m \u001b[0mmake_circular_map\u001b[0m\u001b[1;33m(\u001b[0m\u001b[0msize\u001b[0m\u001b[1;33m,\u001b[0m \u001b[0mradius\u001b[0m\u001b[1;33m)\u001b[0m\u001b[1;33m:\u001b[0m\u001b[1;33m\u001b[0m\u001b[1;33m\u001b[0m\u001b[0m\n",
      "\u001b[1;31mNameError\u001b[0m: name 'os' is not defined"
     ]
    },
    {
     "data": {
      "image/png": "[encoded data removed]",
      "text/plain": [
       "<Figure size 1080x864 with 4 Axes>"
      ]
     },
     "metadata": {
      "needs_background": "light"
     },
     "output_type": "display_data"
    }
   ],
   "source": [
    "from IPython.display import Image\n",
    "import ipyplot\n",
    "import glob\n",
    "\n",
    "# load & Evaluates the best model \n",
    "best_model = DDPG.load(\"./logs/MultiTargets/best_model\",env=maze_env)\n",
    "Evaluation.plot_train_eval_results(\"logs/MultiTargets\", EVAL_EPISODES)\n",
    "\n",
    "episode_reward = Evaluation.record_model(best_model, eval_maze_env, \"logs/MultiTargets/final.avi\")\n",
    "print(\"Reward:\", episode_reward)\n",
    "\n",
    "Evaluation.create_gifs_from_avi(\"logs/MultiTargets\")\n",
    "\n",
    "#Clean previous gifs\n",
    "clear_files('logs/MultiTargets/*_steps.gif')\n",
    "\n",
    "# Plot gifs\n",
    "gifs = glob.glob(\"logs/MultiTargets/*.gif\")\n",
    "labels = [pth.split('/')[-1].split('.')[0] for pth in gifs]\n",
    "ipyplot.plot_images(gifs, labels, img_width=250)\n"
   ]
  },
  {
   "cell_type": "code",
   "execution_count": null,
   "id": "e6555f15-eb07-4145-91ca-e34fb6e926bd",
   "metadata": {},
   "outputs": [],
   "source": []
  }
 ],
 "metadata": {
  "kernelspec": {
   "display_name": "Python 3 (ipykernel)",
   "language": "python",
   "name": "python3"
  },
  "language_info": {
   "codemirror_mode": {
    "name": "ipython",
    "version": 3
   },
   "file_extension": ".py",
   "mimetype": "text/x-python",
   "name": "python",
   "nbconvert_exporter": "python",
   "pygments_lexer": "ipython3",
   "version": "3.9.2"
  }
 },
 "nbformat": 4,
 "nbformat_minor": 5
}
